{
 "cells": [
  {
   "cell_type": "code",
   "execution_count": 1,
   "id": "19ffd38e",
   "metadata": {},
   "outputs": [],
   "source": [
    "#module importing\n",
    "import pandas as pd\n",
    "import random\n",
    "import math\n",
    "from IPython import display\n",
    "from IPython.display import clear_output"
   ]
  },
  {
   "cell_type": "code",
   "execution_count": 2,
   "id": "670e729a",
   "metadata": {},
   "outputs": [],
   "source": [
    "#cvs file reading\n",
    "world_file=\"counties_coordinates.csv\"\n",
    "world_data=pd.read_csv(world_file)\n"
   ]
  },
  {
   "cell_type": "code",
   "execution_count": 3,
   "id": "420b5a1a",
   "metadata": {
    "scrolled": true
   },
   "outputs": [
    {
     "data": {
      "text/plain": [
       "'\\n#control point\\nprint(rand_country_name)\\nprint(rand_country_code)\\nprint(rand_country_lon)\\nprint(rand_country_lat)\\n\\n#map vector\\ndisplay.Image(\"https://fvmstatic.s3.amazonaws.com/maps/m/{}-EPS-01-0001.png\".format(rand_country_code))\\n'"
      ]
     },
     "execution_count": 3,
     "metadata": {},
     "output_type": "execute_result"
    }
   ],
   "source": [
    "#data set\n",
    "randnumber=random.randint(2,241)#choosing random country\n",
    "global rand_country_name\n",
    "\n",
    "rand_country_code=world_data.Code[randnumber]\n",
    "rand_country_name=world_data.Name[randnumber]\n",
    "rand_country_lat=world_data.Lat[randnumber]\n",
    "rand_country_lon=world_data.Lon[randnumber]\n",
    "\"\"\"\n",
    "#control point\n",
    "print(rand_country_name)\n",
    "print(rand_country_code)\n",
    "print(rand_country_lon)\n",
    "print(rand_country_lat)\n",
    "\n",
    "#map vector\n",
    "display.Image(\"https://fvmstatic.s3.amazonaws.com/maps/m/{}-EPS-01-0001.png\".format(rand_country_code))\n",
    "\"\"\""
   ]
  },
  {
   "cell_type": "code",
   "execution_count": 4,
   "id": "043cde36",
   "metadata": {},
   "outputs": [],
   "source": [
    "#defining function for distance between two countries\n",
    "def Distance(guess):\n",
    "    from math import sin,cos,acos\n",
    "    \n",
    "    global percent\n",
    "    global distance_km\n",
    "    \n",
    "        \n",
    "    target_lat=rand_country_lat\n",
    "    target_lon=rand_country_lon\n",
    "    target_lat_rad=target_lat/57.29577951\n",
    "    target_lon_rad=target_lon/57.29577951\n",
    "    \n",
    "    #GUESS PART\n",
    "    \n",
    "    line=0\n",
    "    global finding_line\n",
    "    for i in world_data.Code:\n",
    "        if i==guess:\n",
    "            finding_line=line\n",
    "        else:\n",
    "            pass\n",
    "        \n",
    "        line+=1\n",
    "        \n",
    "    guess_lat=world_data.Lat[finding_line]\n",
    "    guess_lon=world_data.Lon[finding_line]\n",
    "    guess_lat_rad=guess_lat/57.29577951\n",
    "    guess_lon_rad=guess_lon/57.29577951\n",
    "    \n",
    "    #distance formula\n",
    "    distance_mile = 3963.0 * acos((sin(guess_lat_rad) * sin(target_lat_rad)) + cos(guess_lat_rad) * cos(target_lat_rad) * cos(target_lon_rad - guess_lon_rad))\n",
    "    distance_km=distance_mile*1.609344\n",
    "    \n",
    "    percent=100-(distance_km/200)\n",
    "\n",
    "    return distance_km,int(percent)\n",
    "    "
   ]
  },
  {
   "cell_type": "code",
   "execution_count": 5,
   "id": "30dffc48",
   "metadata": {},
   "outputs": [],
   "source": [
    "countries_name_list=world_data[\"Name\"].to_list()\n",
    "countries_code_list=world_data[\"Code\"].to_list()\n",
    "\"\"\"\n",
    "print(countries_name_list)\n",
    "print(countries_code_list)\n",
    "\"\"\"\n",
    "def guess_correction(guess):\n",
    "    upper_guess=guess.upper()\n",
    "    title_guess=guess.title()\n",
    "    result_guess=\"\"\n",
    "    if len(guess)==2 and upper_guess in countries_code_list:\n",
    "        return upper_guess\n",
    "    elif len(guess)!=2 and title_guess in countries_name_list:\n",
    "        for i in range(len(countries_name_list)):\n",
    "            if countries_name_list[i] == title_guess:\n",
    "                result_guess=world_data[\"Code\"].get(i)\n",
    "                return result_guess\n",
    "        \n",
    "\n",
    "    else:\n",
    "        return 0\n",
    "    \n",
    "                "
   ]
  },
  {
   "cell_type": "code",
   "execution_count": 6,
   "id": "4438d8cd",
   "metadata": {},
   "outputs": [],
   "source": [
    "countries_name_list=world_data[\"Name\"].to_list()\n",
    "countries_code_list=world_data[\"Code\"].to_list()\n",
    "\n",
    "def guess_correction(guess):\n",
    "    if not isinstance(guess, str):\n",
    "        return 0\n",
    "\n",
    "    upper_guess = guess.upper()\n",
    "    title_guess = guess.title()\n",
    "    result_guess = \"\"\n",
    "\n",
    "    try:\n",
    "        if len(guess) == 2 and upper_guess in countries_code_list:\n",
    "            return upper_guess\n",
    "        elif len(guess) != 2 and title_guess in countries_name_list:\n",
    "            for i in range(len(countries_name_list)):\n",
    "                if countries_name_list[i] == title_guess:\n",
    "                    result_guess = world_data[\"Code\"].get(i)\n",
    "                    return result_guess\n",
    "        else:\n",
    "            return 0\n",
    "    except Exception as e:\n",
    "        print(\"An error occurred: {}\".format(e))\n",
    "        return 0\n"
   ]
  },
  {
   "cell_type": "code",
   "execution_count": 8,
   "id": "5fd22405",
   "metadata": {},
   "outputs": [],
   "source": [
    "#defining function for direction help\n",
    "\n",
    "def Direction(guess):\n",
    "    target_lat=rand_country_lat\n",
    "    target_lon=rand_country_lon\n",
    "    \n",
    "    global symbol\n",
    "\n",
    "    \n",
    "    #GUESS PART\n",
    "    symbol=\"\"\n",
    "    \n",
    "    line=0\n",
    "    global finding_line\n",
    "    for i in world_data.Code:\n",
    "        if i==guess:\n",
    "            finding_line=line\n",
    "        else:\n",
    "            pass\n",
    "        \n",
    "        line+=1\n",
    "        \n",
    "    guess_lat=world_data.Lat[finding_line]\n",
    "    guess_lon=world_data.Lon[finding_line]\n",
    "    \n",
    "    #distance of coordinates between tho countries\n",
    "    distance_lat=guess_lat-target_lat\n",
    "    distance_lon=guess_lon-target_lon\n",
    "    \n",
    "    a=5 #location tolerance for direction\n",
    "    \n",
    "    if distance_lat>a and distance_lon<-a:\n",
    "        symbol=\"⇘\"\n",
    "    elif distance_lat>a and (distance_lon<a and distance_lon>-a):\n",
    "        symbol=\"⇓\"\n",
    "    elif distance_lat>a and distance_lon>a:\n",
    "        symbol=\"⇙\"\n",
    "    elif distance_lat<a and distance_lat>-a and distance_lon>a:\n",
    "        symbol=\"⇐\"\n",
    "    elif distance_lat<-a and distance_lon>a:\n",
    "        symbol=\"⇖\"\n",
    "    elif distance_lat<-a and distance_lon<a and distance_lon>-a:\n",
    "        symbol=\"⇑\"\n",
    "    elif distance_lat<-a and distance_lon<-a:\n",
    "        symbol=\"⇗\"\n",
    "    elif distance_lat<a and distance_lat>-a and distance_lon<-a:\n",
    "        symbol=\"⇒\"\n",
    "\n",
    "    \n",
    "    return symbol\n",
    "\n",
    "\n",
    "  \n",
    "\n",
    "\n",
    "\n",
    "        "
   ]
  },
  {
   "cell_type": "code",
   "execution_count": 9,
   "id": "581b146a",
   "metadata": {},
   "outputs": [],
   "source": [
    "#UI\n",
    "def game():\n",
    "    attempt=6  #attempt count\n",
    "    text=\"\"\n",
    "    while attempt>0 or country_in==\"Yes\":\n",
    "\n",
    "\n",
    "        input_country=input()\n",
    "        \n",
    "        country_in=guess_correction(input_country)\n",
    "        if country_in==\"Unidentifyed Country! Try Again.\":\n",
    "            continue\n",
    "        else:\n",
    "            if country_in==rand_country_code:\n",
    "                print(\"Correct Well Done!\")\n",
    "                print(\"■ \"*5+rand_country_name)\n",
    "                break\n",
    "\n",
    "\n",
    "\n",
    "\n",
    "            Distance(country_in)\n",
    "            direction=Direction(country_in)\n",
    "            square_count=int(percent)//20\n",
    "            print(country_in)\n",
    "            Template=country_in+\": \"+str(distance_km//1)+\" \"+square_count*\"■ \"+((5-square_count)*\"□ \"+str(percent//1))+\" \"+symbol\n",
    "\n",
    "            attempt-=1\n",
    "\n",
    "            text=text+\" \\n\"+Template+\" {} attempt remaining.\".format(attempt)\n",
    "            clear_output(wait=True)\n",
    "\n",
    "            print(text)\n",
    "\n",
    "\n",
    "        if (attempt==0):\n",
    "            print(\"Correct answer:{}\".format(rand_country_name))\n",
    "        \n",
    "\n",
    "    \n",
    "    \n",
    "\n",
    "    \n",
    "    \n",
    "    \n",
    "\n",
    "\n",
    "    \n"
   ]
  },
  {
   "cell_type": "code",
   "execution_count": 10,
   "id": "ffd21090",
   "metadata": {},
   "outputs": [],
   "source": [
    "def game():\n",
    "    attempts = 5\n",
    "    template = \"{}: {} {} {} {} {} attempts remaining.\"\n",
    "    text=\"\"\n",
    "    while attempts > 0:\n",
    "        \n",
    "        country = guess_correction(input())\n",
    "        if country == rand_country_code or country==rand_country_name:\n",
    "            print(\"Correct! Well done!\")\n",
    "            print(\"■ \" * 5 + rand_country_name)\n",
    "            break\n",
    "        elif not guess_correction(country):\n",
    "            print(\"Unidentified country. Try again.\\n {}\".format(text))\n",
    "            clear_output(wait=True)\n",
    "            continue\n",
    "        else:\n",
    "            distance,percent = Distance(country)\n",
    "            direction = Direction(country)\n",
    "            square_count = int(percent // 20)\n",
    "            filled_squares = \"■ \" * square_count\n",
    "            empty_squares = \"□ \" * (5 - square_count)\n",
    "            template_args = (country, int(distance), filled_squares, empty_squares, int(percent), symbol, attempts-1)\n",
    "            text=text+\"\\n\"+(template.format(*template_args))\n",
    "            print(text)\n",
    "            clear_output(wait=True)\n",
    "            attempts -= 1\n",
    "    else:\n",
    "        print(\"{} \\nYou're out of attempts! The correct answer was {}.\".format(text,rand_country_name))\n"
   ]
  },
  {
   "cell_type": "code",
   "execution_count": 11,
   "id": "1d1ce38d",
   "metadata": {},
   "outputs": [],
   "source": [
    "def country_display():\n",
    "    return display.Image(\"https://fvmstatic.s3.amazonaws.com/maps/m/{}-EPS-01-0001.png\".format(rand_country_code))"
   ]
  },
  {
   "cell_type": "code",
   "execution_count": 12,
   "id": "900351d7",
   "metadata": {
    "scrolled": true
   },
   "outputs": [
    {
     "data": {
      "image/png": "[encoded data removed]",
      "text/plain": [
       "<IPython.core.display.Image object>"
      ]
     },
     "execution_count": 12,
     "metadata": {},
     "output_type": "execute_result"
    }
   ],
   "source": [
    "country_display()"
   ]
  },
  {
   "cell_type": "code",
   "execution_count": 13,
   "id": "24bd67d7",
   "metadata": {},
   "outputs": [
    {
     "ename": "KeyboardInterrupt",
     "evalue": "Interrupted by user",
     "output_type": "error",
     "traceback": [
      "\u001b[1;31m---------------------------------------------------------------------------\u001b[0m",
      "\u001b[1;31mKeyboardInterrupt\u001b[0m                         Traceback (most recent call last)",
      "\u001b[1;32m<ipython-input-13-4a8413945148>\u001b[0m in \u001b[0;36m<module>\u001b[1;34m\u001b[0m\n\u001b[1;32m----> 1\u001b[1;33m \u001b[0mgame\u001b[0m\u001b[1;33m(\u001b[0m\u001b[1;33m)\u001b[0m\u001b[1;33m\u001b[0m\u001b[1;33m\u001b[0m\u001b[0m\n\u001b[0m",
      "\u001b[1;32m<ipython-input-10-2a883450c51f>\u001b[0m in \u001b[0;36mgame\u001b[1;34m()\u001b[0m\n\u001b[0;32m      5\u001b[0m     \u001b[1;32mwhile\u001b[0m \u001b[0mattempts\u001b[0m \u001b[1;33m>\u001b[0m \u001b[1;36m0\u001b[0m\u001b[1;33m:\u001b[0m\u001b[1;33m\u001b[0m\u001b[1;33m\u001b[0m\u001b[0m\n\u001b[0;32m      6\u001b[0m \u001b[1;33m\u001b[0m\u001b[0m\n\u001b[1;32m----> 7\u001b[1;33m         \u001b[0mcountry\u001b[0m \u001b[1;33m=\u001b[0m \u001b[0mguess_correction\u001b[0m\u001b[1;33m(\u001b[0m\u001b[0minput\u001b[0m\u001b[1;33m(\u001b[0m\u001b[1;33m)\u001b[0m\u001b[1;33m)\u001b[0m\u001b[1;33m\u001b[0m\u001b[1;33m\u001b[0m\u001b[0m\n\u001b[0m\u001b[0;32m      8\u001b[0m         \u001b[1;32mif\u001b[0m \u001b[0mcountry\u001b[0m \u001b[1;33m==\u001b[0m \u001b[0mrand_country_code\u001b[0m \u001b[1;32mor\u001b[0m \u001b[0mcountry\u001b[0m\u001b[1;33m==\u001b[0m\u001b[0mrand_country_name\u001b[0m\u001b[1;33m:\u001b[0m\u001b[1;33m\u001b[0m\u001b[1;33m\u001b[0m\u001b[0m\n\u001b[0;32m      9\u001b[0m             \u001b[0mprint\u001b[0m\u001b[1;33m(\u001b[0m\u001b[1;34m\"Correct! Well done!\"\u001b[0m\u001b[1;33m)\u001b[0m\u001b[1;33m\u001b[0m\u001b[1;33m\u001b[0m\u001b[0m\n",
      "\u001b[1;32mC:\\Anaconda3\\lib\\site-packages\\ipykernel\\kernelbase.py\u001b[0m in \u001b[0;36mraw_input\u001b[1;34m(self, prompt)\u001b[0m\n\u001b[0;32m    858\u001b[0m                 \u001b[1;34m\"raw_input was called, but this frontend does not support input requests.\"\u001b[0m\u001b[1;33m\u001b[0m\u001b[1;33m\u001b[0m\u001b[0m\n\u001b[0;32m    859\u001b[0m             )\n\u001b[1;32m--> 860\u001b[1;33m         return self._input_request(str(prompt),\n\u001b[0m\u001b[0;32m    861\u001b[0m             \u001b[0mself\u001b[0m\u001b[1;33m.\u001b[0m\u001b[0m_parent_ident\u001b[0m\u001b[1;33m,\u001b[0m\u001b[1;33m\u001b[0m\u001b[1;33m\u001b[0m\u001b[0m\n\u001b[0;32m    862\u001b[0m             \u001b[0mself\u001b[0m\u001b[1;33m.\u001b[0m\u001b[0m_parent_header\u001b[0m\u001b[1;33m,\u001b[0m\u001b[1;33m\u001b[0m\u001b[1;33m\u001b[0m\u001b[0m\n",
      "\u001b[1;32mC:\\Anaconda3\\lib\\site-packages\\ipykernel\\kernelbase.py\u001b[0m in \u001b[0;36m_input_request\u001b[1;34m(self, prompt, ident, parent, password)\u001b[0m\n\u001b[0;32m    902\u001b[0m             \u001b[1;32mexcept\u001b[0m \u001b[0mKeyboardInterrupt\u001b[0m\u001b[1;33m:\u001b[0m\u001b[1;33m\u001b[0m\u001b[1;33m\u001b[0m\u001b[0m\n\u001b[0;32m    903\u001b[0m                 \u001b[1;31m# re-raise KeyboardInterrupt, to truncate traceback\u001b[0m\u001b[1;33m\u001b[0m\u001b[1;33m\u001b[0m\u001b[1;33m\u001b[0m\u001b[0m\n\u001b[1;32m--> 904\u001b[1;33m                 \u001b[1;32mraise\u001b[0m \u001b[0mKeyboardInterrupt\u001b[0m\u001b[1;33m(\u001b[0m\u001b[1;34m\"Interrupted by user\"\u001b[0m\u001b[1;33m)\u001b[0m \u001b[1;32mfrom\u001b[0m \u001b[1;32mNone\u001b[0m\u001b[1;33m\u001b[0m\u001b[1;33m\u001b[0m\u001b[0m\n\u001b[0m\u001b[0;32m    905\u001b[0m             \u001b[1;32mexcept\u001b[0m \u001b[0mException\u001b[0m \u001b[1;32mas\u001b[0m \u001b[0me\u001b[0m\u001b[1;33m:\u001b[0m\u001b[1;33m\u001b[0m\u001b[1;33m\u001b[0m\u001b[0m\n\u001b[0;32m    906\u001b[0m                 \u001b[0mself\u001b[0m\u001b[1;33m.\u001b[0m\u001b[0mlog\u001b[0m\u001b[1;33m.\u001b[0m\u001b[0mwarning\u001b[0m\u001b[1;33m(\u001b[0m\u001b[1;34m\"Invalid Message:\"\u001b[0m\u001b[1;33m,\u001b[0m \u001b[0mexc_info\u001b[0m\u001b[1;33m=\u001b[0m\u001b[1;32mTrue\u001b[0m\u001b[1;33m)\u001b[0m\u001b[1;33m\u001b[0m\u001b[1;33m\u001b[0m\u001b[0m\n",
      "\u001b[1;31mKeyboardInterrupt\u001b[0m: Interrupted by user"
     ]
    }
   ],
   "source": [
    "game()"
   ]
  },
  {
   "cell_type": "code",
   "execution_count": null,
   "id": "9e5c17ba",
   "metadata": {},
   "outputs": [],
   "source": []
  },
  {
   "cell_type": "code",
   "execution_count": null,
   "id": "2ae736e8",
   "metadata": {},
   "outputs": [],
   "source": []
  }
 ],
 "metadata": {
  "kernelspec": {
   "display_name": "Python 3",
   "language": "python",
   "name": "python3"
  },
  "language_info": {
   "codemirror_mode": {
    "name": "ipython",
    "version": 3
   },
   "file_extension": ".py",
   "mimetype": "text/x-python",
   "name": "python",
   "nbconvert_exporter": "python",
   "pygments_lexer": "ipython3",
   "version": "3.8.8"
  }
 },
 "nbformat": 4,
 "nbformat_minor": 5
}
