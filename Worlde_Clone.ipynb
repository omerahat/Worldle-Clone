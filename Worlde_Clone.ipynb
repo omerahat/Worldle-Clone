{
 "cells": [
  {
   "cell_type": "code",
   "execution_count": 2,
   "id": "19ffd38e",
   "metadata": {},
   "outputs": [],
   "source": [
    "#module importing\n",
    "import pandas as pd\n",
    "import random\n",
    "import math\n",
    "from IPython import display\n",
    "from IPython.display import clear_output"
   ]
  },
  {
   "cell_type": "code",
   "execution_count": 3,
   "id": "670e729a",
   "metadata": {},
   "outputs": [],
   "source": [
    "#cvs file reading\n",
    "world_file=\"counties_coordinates.csv\"\n",
    "world_data=pd.read_csv(world_file)\n"
   ]
  },
  {
   "cell_type": "code",
   "execution_count": 4,
   "id": "420b5a1a",
   "metadata": {
    "scrolled": true
   },
   "outputs": [
    {
     "name": "stdout",
     "output_type": "stream",
     "text": [
      "Saint Kitts and Nevis\n",
      "KN\n",
      "-62.75\n",
      "17.33\n"
     ]
    },
    {
     "data": {
      "image/png": "[encoded data removed]",
      "text/plain": [
       "<IPython.core.display.Image object>"
      ]
     },
     "execution_count": 4,
     "metadata": {},
     "output_type": "execute_result"
    }
   ],
   "source": [
    "#data set\n",
    "randnumber=random.randint(2,241)#choosing random country\n",
    "global rand_country_name\n",
    "\n",
    "rand_country_code=world_data.Code[randnumber]\n",
    "rand_country_name=world_data.Name[randnumber]\n",
    "rand_country_lat=world_data.Lat[randnumber]\n",
    "rand_country_lon=world_data.Lon[randnumber]\n",
    "\n",
    "#control point\n",
    "print(rand_country_name)\n",
    "print(rand_country_code)\n",
    "print(rand_country_lon)\n",
    "print(rand_country_lat)\n",
    "\n",
    "#map vector\n",
    "display.Image(\"https://fvmstatic.s3.amazonaws.com/maps/m/{}-EPS-01-0001.png\".format(rand_country_code))\n"
   ]
  },
  {
   "cell_type": "code",
   "execution_count": 5,
   "id": "043cde36",
   "metadata": {},
   "outputs": [],
   "source": [
    "#defining function for distance between two countries\n",
    "def Distance(guess):\n",
    "    from math import sin,cos,acos\n",
    "    \n",
    "    global percent\n",
    "    global distance_km\n",
    "    \n",
    "        \n",
    "    target_lat=rand_country_lat\n",
    "    target_lon=rand_country_lon\n",
    "    target_lat_rad=target_lat/57.29577951\n",
    "    target_lon_rad=target_lon/57.29577951\n",
    "    \n",
    "    #GUESS PART\n",
    "    \n",
    "    line=0\n",
    "    global finding_line\n",
    "    for i in world_data.Code:\n",
    "        if i==guess:\n",
    "            finding_line=line\n",
    "        else:\n",
    "            pass\n",
    "        \n",
    "        line+=1\n",
    "        \n",
    "    guess_lat=world_data.Lat[finding_line]\n",
    "    guess_lon=world_data.Lon[finding_line]\n",
    "    guess_lat_rad=guess_lat/57.29577951\n",
    "    guess_lon_rad=guess_lon/57.29577951\n",
    "    \n",
    "    #distance formula\n",
    "    distance_mile = 3963.0 * acos((sin(guess_lat_rad) * sin(target_lat_rad)) + cos(guess_lat_rad) * cos(target_lat_rad) * cos(target_lon_rad - guess_lon_rad))\n",
    "    distance_km=distance_mile*1.609344\n",
    "    \n",
    "    percent=100-(distance_km/200)\n",
    "\n",
    "    return distance_km,int(percent)\n",
    "    "
   ]
  },
  {
   "cell_type": "code",
   "execution_count": 6,
   "id": "30dffc48",
   "metadata": {},
   "outputs": [
    {
     "name": "stdout",
     "output_type": "stream",
     "text": [
      "['Andorra', 'United Arab Emirates', 'Afghanistan', 'Antigua and Barbuda', 'Anguilla', 'Albania', 'Armenia', 'Netherlands Antilles', 'Angola', 'Asia/Pacific Region', 'Antarctica', 'Argentina', 'American Samoa', 'Austria', 'Australia', 'Aruba', 'Azerbaijan', 'Bosnia and Herzegovina', 'Barbados', 'Bangladesh', 'Belgium', 'Burkina Faso', 'Bulgaria', 'Bahrain', 'Burundi', 'Benin', 'Bermuda', 'Brunei Darussalam', 'Bolivia', 'Brazil', 'Bahamas', 'Bhutan', 'Bouvet Island', 'Botswana', 'Belarus', 'Belize', 'Canada', 'Cocos (Keeling) Islands', 'Congo, The Democratic Republic of the', 'Central African Republic', 'Congo', 'Switzerland', \"Cote d'Ivoire\", 'Cook Islands', 'Chile', 'Cameroon', 'China', 'Colombia', 'Costa Rica', 'Cuba', 'Cape Verde', 'Christmas Island', 'Cyprus', 'Czech Republic', 'Germany', 'Djibouti', 'Denmark', 'Dominica', 'Dominican Republic', 'Algeria', 'Ecuador', 'Estonia', 'Egypt', 'Western Sahara', 'Eritrea', 'Spain', 'Ethiopia', 'Europe', 'Finland', 'Fiji', 'Falkland Islands (Malvinas)', 'Micronesia, Federated States of', 'Faroe Islands', 'France', 'Gabon', 'United Kingdom', 'Grenada', 'Georgia', 'French Guiana', 'Ghana', 'Gibraltar', 'Greenland', 'Gambia', 'Guinea', 'Guadeloupe', 'Equatorial Guinea', 'Greece', 'South Georgia and the South Sandwich Islands', 'Guatemala', 'Guam', 'Guinea-Bissau', 'Guyana', 'Hong Kong', 'Heard Island and McDonald Islands', 'Honduras', 'Croatia', 'Haiti', 'Hungary', 'Indonesia', 'Ireland', 'Israel', 'India', 'British Indian Ocean Territory', 'Iraq', 'Iran, Islamic Republic of', 'Iceland', 'Italy', 'Jamaica', 'Jordan', 'Japan', 'Kenya', 'Kyrgyzstan', 'Cambodia', 'Kiribati', 'Comoros', 'Saint Kitts and Nevis', \"Korea, Democratic People's Republic of\", 'Korea, Republic of', 'Kuwait', 'Cayman Islands', 'Kazakhstan', \"Lao People's Democratic Republic\", 'Lebanon', 'Saint Lucia', 'Liechtenstein', 'Sri Lanka', 'Liberia', 'Lesotho', 'Lithuania', 'Luxembourg', 'Latvia', 'Libyan Arab Jamahiriya', 'Morocco', 'Monaco', 'Moldova, Republic of', 'Montenegro', 'Madagascar', 'Marshall Islands', 'Macedonia', 'Mali', 'Myanmar', 'Mongolia', 'Macao', 'Northern Mariana Islands', 'Martinique', 'Mauritania', 'Montserrat', 'Malta', 'Mauritius', 'Maldives', 'Malawi', 'Mexico', 'Malaysia', 'Mozambique', 'Namibia', 'New Caledonia', 'Niger', 'Norfolk Island', 'Nigeria', 'Nicaragua', 'Netherlands', 'Norway', 'Nepal', 'Nauru', 'Niue', 'New Zealand', 'Oman', 'Panama', 'Peru', 'French Polynesia', 'Papua New Guinea', 'Philippines', 'Pakistan', 'Poland', 'Saint Pierre and Miquelon', 'Puerto Rico', 'Palestinian Territory', 'Portugal', 'Palau', 'Paraguay', 'Qatar', 'Reunion', 'Romania', 'Serbia', 'Russian Federation', 'Rwanda', 'Saudi Arabia', 'Solomon Islands', 'Seychelles', 'Sudan', 'Sweden', 'Singapore', 'Saint Helena', 'Slovenia', 'Svalbard and Jan Mayen', 'Slovakia', 'Sierra Leone', 'San Marino', 'Senegal', 'Somalia', 'Suriname', 'Sao Tome and Principe', 'El Salvador', 'Syrian Arab Republic', 'Swaziland', 'Turks and Caicos Islands', 'Chad', 'French Southern Territories', 'Togo', 'Thailand', 'Tajikistan', 'Tokelau', 'Turkmenistan', 'Tunisia', 'Tonga', 'Turkey', 'Trinidad and Tobago', 'Tuvalu', 'Taiwan', 'Tanzania, United Republic of', 'Ukraine', 'Uganda', 'United States Minor Outlying Islands', 'United States', 'Uruguay', 'Uzbekistan', 'Holy See (Vatican City State)', 'Saint Vincent and the Grenadines', 'Venezuela', 'Virgin Islands, British', 'Virgin Islands, U.S.', 'Vietnam', 'Vanuatu', 'Wallis and Futuna', 'Samoa', 'Yemen', 'Mayotte', 'South Africa', 'Zambia', 'Zimbabwe']\n",
      "['AD', 'AE', 'AF', 'AG', 'AI', 'AL', 'AM', 'AN', 'AO', 'AP', 'AQ', 'AR', 'AS', 'AT', 'AU', 'AW', 'AZ', 'BA', 'BB', 'BD', 'BE', 'BF', 'BG', 'BH', 'BI', 'BJ', 'BM', 'BN', 'BO', 'BR', 'BS', 'BT', 'BV', 'BW', 'BY', 'BZ', 'CA', 'CC', 'CD', 'CF', 'CG', 'CH', 'CI', 'CK', 'CL', 'CM', 'CN', 'CO', 'CR', 'CU', 'CV', 'CX', 'CY', 'CZ', 'DE', 'DJ', 'DK', 'DM', 'DO', 'DZ', 'EC', 'EE', 'EG', 'EH', 'ER', 'ES', 'ET', 'EU', 'FI', 'FJ', 'FK', 'FM', 'FO', 'FR', 'GA', 'GB', 'GD', 'GE', 'GF', 'GH', 'GI', 'GL', 'GM', 'GN', 'GP', 'GQ', 'GR', 'GS', 'GT', 'GU', 'GW', 'GY', 'HK', 'HM', 'HN', 'HR', 'HT', 'HU', 'ID', 'IE', 'IL', 'IN', 'IO', 'IQ', 'IR', 'IS', 'IT', 'JM', 'JO', 'JP', 'KE', 'KG', 'KH', 'KI', 'KM', 'KN', 'KP', 'KR', 'KW', 'KY', 'KZ', 'LA', 'LB', 'LC', 'LI', 'LK', 'LR', 'LS', 'LT', 'LU', 'LV', 'LY', 'MA', 'MC', 'MD', 'ME', 'MG', 'MH', 'MK', 'ML', 'MM', 'MN', 'MO', 'MP', 'MQ', 'MR', 'MS', 'MT', 'MU', 'MV', 'MW', 'MX', 'MY', 'MZ', nan, 'NC', 'NE', 'NF', 'NG', 'NI', 'NL', 'NO', 'NP', 'NR', 'NU', 'NZ', 'OM', 'PA', 'PE', 'PF', 'PG', 'PH', 'PK', 'PL', 'PM', 'PR', 'PS', 'PT', 'PW', 'PY', 'QA', 'RE', 'RO', 'RS', 'RU', 'RW', 'SA', 'SB', 'SC', 'SD', 'SE', 'SG', 'SH', 'SI', 'SJ', 'SK', 'SL', 'SM', 'SN', 'SO', 'SR', 'ST', 'SV', 'SY', 'SZ', 'TC', 'TD', 'TF', 'TG', 'TH', 'TJ', 'TK', 'TM', 'TN', 'TO', 'TR', 'TT', 'TV', 'TW', 'TZ', 'UA', 'UG', 'UM', 'US', 'UY', 'UZ', 'VA', 'VC', 'VE', 'VG', 'VI', 'VN', 'VU', 'WF', 'WS', 'YE', 'YT', 'ZA', 'ZM', 'ZW']\n"
     ]
    }
   ],
   "source": [
    "countries_name_list=world_data[\"Name\"].to_list()\n",
    "countries_code_list=world_data[\"Code\"].to_list()\n",
    "print(countries_name_list)\n",
    "print(countries_code_list)\n",
    "\n",
    "def guess_correction(guess):\n",
    "    upper_guess=guess.upper()\n",
    "    title_guess=guess.title()\n",
    "    result_guess=\"\"\n",
    "    if len(guess)==2 and upper_guess in countries_code_list:\n",
    "        return upper_guess\n",
    "    elif len(guess)!=2 and title_guess in countries_name_list:\n",
    "        for i in range(len(countries_name_list)):\n",
    "            if countries_name_list[i] == title_guess:\n",
    "                result_guess=world_data[\"Code\"].get(i)\n",
    "                return result_guess\n",
    "        \n",
    "\n",
    "    else:\n",
    "        return 0\n",
    "    \n",
    "                "
   ]
  },
  {
   "cell_type": "code",
   "execution_count": 7,
   "id": "4438d8cd",
   "metadata": {},
   "outputs": [],
   "source": [
    "countries_name_list=world_data[\"Name\"].to_list()\n",
    "countries_code_list=world_data[\"Code\"].to_list()\n",
    "\n",
    "def guess_correction(guess):\n",
    "    if not isinstance(guess, str):\n",
    "        return 0\n",
    "\n",
    "    upper_guess = guess.upper()\n",
    "    title_guess = guess.title()\n",
    "    result_guess = \"\"\n",
    "\n",
    "    try:\n",
    "        if len(guess) == 2 and upper_guess in countries_code_list:\n",
    "            return upper_guess\n",
    "        elif len(guess) != 2 and title_guess in countries_name_list:\n",
    "            for i in range(len(countries_name_list)):\n",
    "                if countries_name_list[i] == title_guess:\n",
    "                    result_guess = world_data[\"Code\"].get(i)\n",
    "                    return result_guess\n",
    "        else:\n",
    "            return 0\n",
    "    except Exception as e:\n",
    "        print(\"An error occurred: {}\".format(e))\n",
    "        return 0\n"
   ]
  },
  {
   "cell_type": "code",
   "execution_count": 8,
   "id": "5fd22405",
   "metadata": {},
   "outputs": [],
   "source": [
    "#defining function for direction help\n",
    "\n",
    "def Direction(guess):\n",
    "    target_lat=rand_country_lat\n",
    "    target_lon=rand_country_lon\n",
    "    \n",
    "    global symbol\n",
    "\n",
    "    \n",
    "    #GUESS PART\n",
    "    symbol=\"\"\n",
    "    \n",
    "    line=0\n",
    "    global finding_line\n",
    "    for i in world_data.Code:\n",
    "        if i==guess:\n",
    "            finding_line=line\n",
    "        else:\n",
    "            pass\n",
    "        \n",
    "        line+=1\n",
    "        \n",
    "    guess_lat=world_data.Lat[finding_line]\n",
    "    guess_lon=world_data.Lon[finding_line]\n",
    "    \n",
    "    #distance of coordinates between tho countries\n",
    "    distance_lat=guess_lat-target_lat\n",
    "    distance_lon=guess_lon-target_lon\n",
    "    \n",
    "    a=5 #location tolerance for direction\n",
    "    \n",
    "    if distance_lat>a and distance_lon<-a:\n",
    "        symbol=\"⇘\"\n",
    "    elif distance_lat>a and (distance_lon<a and distance_lon>-a):\n",
    "        symbol=\"⇓\"\n",
    "    elif distance_lat>a and distance_lon>a:\n",
    "        symbol=\"⇙\"\n",
    "    elif distance_lat<a and distance_lat>-a and distance_lon>a:\n",
    "        symbol=\"⇐\"\n",
    "    elif distance_lat<-a and distance_lon>a:\n",
    "        symbol=\"⇖\"\n",
    "    elif distance_lat<-a and distance_lon<a and distance_lon>-a:\n",
    "        symbol=\"⇑\"\n",
    "    elif distance_lat<-a and distance_lon<-a:\n",
    "        symbol=\"⇗\"\n",
    "    elif distance_lat<a and distance_lat>-a and distance_lon<-a:\n",
    "        symbol=\"⇒\"\n",
    "\n",
    "    \n",
    "    return symbol\n",
    "\n",
    "\n",
    "  \n",
    "\n",
    "\n",
    "\n",
    "        "
   ]
  },
  {
   "cell_type": "code",
   "execution_count": 9,
   "id": "581b146a",
   "metadata": {},
   "outputs": [],
   "source": [
    "#UI\n",
    "def game():\n",
    "    attempt=6  #attempt count\n",
    "    text=\"\"\n",
    "    while attempt>0 or country_in==\"Yes\":\n",
    "\n",
    "\n",
    "        input_country=input()\n",
    "        \n",
    "        country_in=guess_correction(input_country)\n",
    "        if country_in==\"Unidentifyed Country! Try Again.\":\n",
    "            continue\n",
    "        else:\n",
    "            if country_in==rand_country_code:\n",
    "                print(\"Correct Well Done!\")\n",
    "                print(\"■ \"*5+rand_country_name)\n",
    "                break\n",
    "\n",
    "\n",
    "\n",
    "\n",
    "            Distance(country_in)\n",
    "            direction=Direction(country_in)\n",
    "            square_count=int(percent)//20\n",
    "            print(country_in)\n",
    "            Template=country_in+\": \"+str(distance_km//1)+\" \"+square_count*\"■ \"+((5-square_count)*\"□ \"+str(percent//1))+\" \"+symbol\n",
    "\n",
    "            attempt-=1\n",
    "\n",
    "            text=text+\" \\n\"+Template+\" {} attempt remaining.\".format(attempt)\n",
    "            clear_output(wait=True)\n",
    "\n",
    "            print(text)\n",
    "\n",
    "\n",
    "        if (attempt==0):\n",
    "            print(\"Correct answer:{}\".format(rand_country_name))\n",
    "        \n",
    "\n",
    "    \n",
    "    \n",
    "\n",
    "    \n",
    "    \n",
    "    \n",
    "\n",
    "\n",
    "    \n"
   ]
  },
  {
   "cell_type": "code",
   "execution_count": 10,
   "id": "ffd21090",
   "metadata": {},
   "outputs": [],
   "source": [
    "def game():\n",
    "    attempts = 5\n",
    "    template = \"{}: {} {} {} {} {} attempts remaining.\"\n",
    "    text=\"\"\n",
    "    while attempts > 0:\n",
    "        \n",
    "        country = guess_correction(input())\n",
    "        if country == rand_country_code or country==rand_country_name:\n",
    "            print(\"Correct! Well done!\")\n",
    "            print(\"■ \" * 5 + rand_country_name)\n",
    "            break\n",
    "        elif not guess_correction(country):\n",
    "            print(\"Unidentified country. Try again.\\n {}\".format(text))\n",
    "            clear_output(wait=True)\n",
    "            continue\n",
    "        else:\n",
    "            distance,percent = Distance(country)\n",
    "            direction = Direction(country)\n",
    "            square_count = int(percent // 20)\n",
    "            filled_squares = \"■ \" * square_count\n",
    "            empty_squares = \"□ \" * (5 - square_count)\n",
    "            template_args = (country, int(distance), filled_squares, empty_squares, int(percent), symbol, attempts-1)\n",
    "            text=text+\"\\n\"+(template.format(*template_args))\n",
    "            print(text)\n",
    "            clear_output(wait=True)\n",
    "            attempts -= 1\n",
    "    else:\n",
    "        print(\"{} \\nYou're out of attempts! The correct answer was {}.\".format(text,rand_country_name))\n"
   ]
  },
  {
   "cell_type": "code",
   "execution_count": 11,
   "id": "1d1ce38d",
   "metadata": {},
   "outputs": [],
   "source": [
    "def country_display():\n",
    "    return display.Image(\"https://fvmstatic.s3.amazonaws.com/maps/m/{}-EPS-01-0001.png\".format(rand_country_code))"
   ]
  },
  {
   "cell_type": "code",
   "execution_count": 12,
   "id": "900351d7",
   "metadata": {
    "scrolled": true
   },
   "outputs": [
    {
     "data": {
      "image/png": "[encoded data removed]",
      "text/plain": [
       "<IPython.core.display.Image object>"
      ]
     },
     "execution_count": 12,
     "metadata": {},
     "output_type": "execute_result"
    }
   ],
   "source": [
    "country_display()"
   ]
  },
  {
   "cell_type": "code",
   "execution_count": 13,
   "id": "24bd67d7",
   "metadata": {},
   "outputs": [
    {
     "name": "stdout",
     "output_type": "stream",
     "text": [
      "\n",
      "US: 4048 ■ ■ ■  □ □  79 ⇘ attempts remaining.\n",
      "TR: 9460 ■ ■  □ □ □  52 ⇙ attempts remaining.\n",
      "TR: 9460 ■ ■  □ □ □  52 ⇙ attempts remaining.\n",
      "US: 4048 ■ ■ ■  □ □  79 ⇘ attempts remaining.\n",
      "LR: 5904 ■ ■ ■  □ □  70 ⇖ attempts remaining.\n",
      "MK: 8316 ■ ■  □ □ □  58 ⇙ attempts remaining. \n",
      "You're out of attempts! The correct answer was Saint Kitts and Nevis.\n"
     ]
    }
   ],
   "source": [
    "game()"
   ]
  },
  {
   "cell_type": "code",
   "execution_count": null,
   "id": "9e5c17ba",
   "metadata": {},
   "outputs": [],
   "source": []
  },
  {
   "cell_type": "code",
   "execution_count": null,
   "id": "2ae736e8",
   "metadata": {},
   "outputs": [],
   "source": []
  }
 ],
 "metadata": {
  "kernelspec": {
   "display_name": "Python 3",
   "language": "python",
   "name": "python3"
  },
  "language_info": {
   "codemirror_mode": {
    "name": "ipython",
    "version": 3
   },
   "file_extension": ".py",
   "mimetype": "text/x-python",
   "name": "python",
   "nbconvert_exporter": "python",
   "pygments_lexer": "ipython3",
   "version": "3.8.8"
  }
 },
 "nbformat": 4,
 "nbformat_minor": 5
}
